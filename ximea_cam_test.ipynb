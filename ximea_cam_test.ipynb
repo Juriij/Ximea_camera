{
 "cells": [
  {
   "cell_type": "code",
   "execution_count": 1,
   "metadata": {},
   "outputs": [
    {
     "name": "stdout",
     "output_type": "stream",
     "text": [
      "Opening first camera...\n",
      "Exposure was set to 9998 us\n",
      "Starting data acquisition...\n"
     ]
    },
    {
     "ename": "error",
     "evalue": "OpenCV(4.9.0) :-1: error: (-5:Bad argument) in function 'imwrite'\n> Overload resolution failed:\n>  - img is not a numpy array, neither a scalar\n>  - Expected Ptr<cv::UMat> for argument 'img'\n",
     "output_type": "error",
     "traceback": [
      "\u001b[1;31m---------------------------------------------------------------------------\u001b[0m",
      "\u001b[1;31merror\u001b[0m                                     Traceback (most recent call last)",
      "Cell \u001b[1;32mIn[1], line 37\u001b[0m\n\u001b[0;32m     34\u001b[0m image \u001b[38;5;241m=\u001b[39m cv2\u001b[38;5;241m.\u001b[39mresize(image,(\u001b[38;5;241m1024\u001b[39m,\u001b[38;5;241m1024\u001b[39m))\n\u001b[0;32m     36\u001b[0m \u001b[38;5;28;01mif\u001b[39;00m  cv2\u001b[38;5;241m.\u001b[39mwaitKey(\u001b[38;5;241m1\u001b[39m) \u001b[38;5;241m!=\u001b[39m \u001b[38;5;28mord\u001b[39m(\u001b[38;5;124m'\u001b[39m\u001b[38;5;124mh\u001b[39m\u001b[38;5;124m'\u001b[39m):\n\u001b[1;32m---> 37\u001b[0m     \u001b[43mcv2\u001b[49m\u001b[38;5;241;43m.\u001b[39;49m\u001b[43mimwrite\u001b[49m\u001b[43m(\u001b[49m\u001b[38;5;124;43mf\u001b[39;49m\u001b[38;5;124;43m\"\u001b[39;49m\u001b[38;5;124;43mimg\u001b[39;49m\u001b[38;5;132;43;01m{\u001b[39;49;00m\u001b[43mimage_num\u001b[49m\u001b[38;5;132;43;01m}\u001b[39;49;00m\u001b[38;5;124;43m.png\u001b[39;49m\u001b[38;5;124;43m\"\u001b[39;49m\u001b[43m,\u001b[49m\u001b[43m \u001b[49m\u001b[43mimg\u001b[49m\u001b[43m)\u001b[49m\n\u001b[0;32m     38\u001b[0m     image_num \u001b[38;5;241m+\u001b[39m\u001b[38;5;241m=\u001b[39m \u001b[38;5;241m1\u001b[39m\n\u001b[0;32m     40\u001b[0m cv2\u001b[38;5;241m.\u001b[39mimshow(\u001b[38;5;124m\"\u001b[39m\u001b[38;5;124mtest2\u001b[39m\u001b[38;5;124m\"\u001b[39m, image)\n",
      "\u001b[1;31merror\u001b[0m: OpenCV(4.9.0) :-1: error: (-5:Bad argument) in function 'imwrite'\n> Overload resolution failed:\n>  - img is not a numpy array, neither a scalar\n>  - Expected Ptr<cv::UMat> for argument 'img'\n"
     ]
    }
   ],
   "source": [
    "from ximea import xiapi\n",
    "import cv2\n",
    "### runn this command first echo 0|sudo tee /sys/module/usbcore/parameters/usbfs_memory_mb  ###\n",
    " \n",
    "#create instance for first connected camera\n",
    "cam = xiapi.Camera()\n",
    " \n",
    " \n",
    " \n",
    "#start communication\n",
    "#to open specific device, use:\n",
    "#cam.open_device_by_SN('41305651')\n",
    "#(open by serial number)\n",
    "print('Opening first camera...')\n",
    "cam.open_device()\n",
    " \n",
    "#settings\n",
    "cam.set_exposure(10000)\n",
    "cam.set_param('imgdataformat','XI_RGB32')\n",
    "cam.set_param('auto_wb', 1)\n",
    "print('Exposure was set to %i us' %cam.get_exposure())\n",
    " \n",
    "#create instance of Image to store image data and metadata\n",
    "img = xiapi.Image()\n",
    " \n",
    "#start data acquisition\n",
    "print('Starting data acquisition...')\n",
    "cam.start_acquisition()\n",
    " \n",
    "image_num = 0\n",
    "while cv2.waitKey(1) != ord('q'):\n",
    "    cam.get_image(img)\n",
    "    image = img.get_image_data_numpy()\n",
    "    image = cv2.resize(image,(1024,1024))\n",
    "\n",
    "    if  cv2.waitKey(1) != ord('h'):\n",
    "        cv2.imwrite(f\"img{image_num}.png\", img)\n",
    "        image_num += 1\n",
    "\n",
    "    cv2.imshow(\"test2\", image)\n",
    "\n",
    " \n",
    " \n",
    "\n",
    " \n",
    " \n",
    "#stop data acquisition\n",
    "print('Stopping acquisition...')\n",
    "cam.stop_acquisition()\n",
    " \n",
    "#stop communication\n",
    "cam.close_device()\n",
    "cv2.destroyAllWindows()\n",
    "print('Done.')"
   ]
  }
 ],
 "metadata": {
  "kernelspec": {
   "display_name": "Ximea",
   "language": "python",
   "name": "python3"
  },
  "language_info": {
   "codemirror_mode": {
    "name": "ipython",
    "version": 3
   },
   "file_extension": ".py",
   "mimetype": "text/x-python",
   "name": "python",
   "nbconvert_exporter": "python",
   "pygments_lexer": "ipython3",
   "version": "3.11.9"
  }
 },
 "nbformat": 4,
 "nbformat_minor": 2
}
