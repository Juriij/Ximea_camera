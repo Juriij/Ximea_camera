{
 "cells": [
  {
   "cell_type": "code",
   "execution_count": 2,
   "metadata": {},
   "outputs": [],
   "source": [
    "from ximea import xiapi\n",
    "import cv2\n",
    "import time\n",
    "import os\n",
    "from PIL import Image\n",
    "import numpy as np\n",
    "### runn this command first echo 0|sudo tee /sys/module/usbcore/parameters/usbfs_memory_mb  ###\n",
    " \n",
    "#create instance for first connected camera\n",
    "cam = xiapi.Camera()"
   ]
  },
  {
   "cell_type": "markdown",
   "metadata": {},
   "source": [
    "TRACKBAR"
   ]
  },
  {
   "cell_type": "code",
   "execution_count": 3,
   "metadata": {},
   "outputs": [],
   "source": [
    "def process_image():\n",
    "    global param1, param2, min_radius, max_radius\n",
    "    gray_blur = cv2.medianBlur(gray, 5)\n",
    "    circles = cv2.HoughCircles(gray_blur, cv2.HOUGH_GRADIENT, dp=1, minDist=50,\n",
    "                               param1=param1, param2=param2,\n",
    "                               minRadius=min_radius, maxRadius=max_radius)\n",
    "\n",
    "    output = img.copy()\n",
    "    if circles is not None:\n",
    "        circles = np.uint16(np.around(circles))\n",
    "        for i in circles[0, :]:\n",
    "            cv2.circle(output, (i[0], i[1]), i[2], (0, 255, 0), 2)\n",
    "            cv2.circle(output, (i[0], i[1]), 2, (0, 0, 255), 3)\n",
    "\n",
    "    cv2.imshow('HoughCircles', output)\n",
    "\n",
    "# Trackbar callback functions to update parameters\n",
    "def update_param1(val):\n",
    "    global param1\n",
    "    param1 = val\n",
    "    process_image()\n",
    "\n",
    "def update_param2(val):\n",
    "    global param2\n",
    "    param2 = val\n",
    "    process_image()\n",
    "\n",
    "def update_min_radius(val):\n",
    "    global min_radius\n",
    "    min_radius = val\n",
    "    process_image()\n",
    "\n",
    "def update_max_radius(val):\n",
    "    global max_radius\n",
    "    max_radius = val\n",
    "    process_image()\n",
    "\n",
    "# Read the input image\n",
    "img = cv2.imread('saved_imgs/img0.jpg', cv2.IMREAD_COLOR)\n",
    "img = cv2.resize(img, (720, 720))\n",
    "if img is None:\n",
    "    raise Exception(\"Could not read the image. Make sure the path is correct.\")\n",
    "\n",
    "gray = cv2.cvtColor(img, cv2.COLOR_BGR2GRAY)\n",
    "\n",
    "# Initial HoughCircles parameters\n",
    "param1 = 100\n",
    "param2 = 30\n",
    "min_radius = 10\n",
    "max_radius = 50\n",
    "\n",
    "# Create a named window\n",
    "cv2.namedWindow('HoughCircles')\n",
    "\n",
    "# Create trackbars\n",
    "cv2.createTrackbar('Param1', 'HoughCircles', param1, 300, update_param1)\n",
    "cv2.createTrackbar('Param2', 'HoughCircles', param2, 100, update_param2)\n",
    "cv2.createTrackbar('Min Radius', 'HoughCircles', min_radius, 100, update_min_radius)\n",
    "cv2.createTrackbar('Max Radius', 'HoughCircles', max_radius, 200, update_max_radius)\n",
    "\n",
    "# Initial processing\n",
    "process_image()\n",
    "\n",
    "# Wait until user exits\n",
    "cv2.waitKey(0)\n",
    "cv2.destroyAllWindows()\n"
   ]
  },
  {
   "cell_type": "markdown",
   "metadata": {},
   "source": [
    "IMAGE LOADING"
   ]
  },
  {
   "cell_type": "code",
   "execution_count": 2,
   "metadata": {},
   "outputs": [],
   "source": [
    "\n",
    "def find_circles(img):\n",
    "    gray_img = cv2.cvtColor(img, cv2.COLOR_BGR2GRAY)\n",
    "    img = cv2.medianBlur(gray_img, 5)\n",
    "\n",
    "    circles = cv2.HoughCircles(img,cv2.HOUGH_GRADIENT,dp=1,minDist=50,param1=125,param2=40,minRadius=0,maxRadius=0)\n",
    "\n",
    "    if circles is not None:\n",
    "        circles = np.round(circles[0, :]).astype(\"int\")\n",
    "\n",
    "        return circles\n",
    "    \n",
    "    else:\n",
    "        return None\n",
    "\n",
    "\n",
    "\n"
   ]
  },
  {
   "cell_type": "markdown",
   "metadata": {},
   "source": [
    "LIVE CAMERA FRAMES"
   ]
  },
  {
   "cell_type": "code",
   "execution_count": 5,
   "metadata": {},
   "outputs": [
    {
     "name": "stdout",
     "output_type": "stream",
     "text": [
      "Opening first camera...\n",
      "Exposure was set to 10001 us\n",
      "Starting data acquisition...\n",
      "Stopping acquisition...\n",
      "Done.\n"
     ]
    }
   ],
   "source": [
    "#start communication\n",
    "#to open specific device, use:\n",
    "#cam.open_device_by_SN('41305651')\n",
    "#(open by serial number)\n",
    "print('Opening first camera...')\n",
    "cam.open_device()\n",
    " \n",
    "#settings\n",
    "cam.set_exposure(10000)\n",
    "cam.set_param('imgdataformat','XI_RGB32')\n",
    "cam.set_param('auto_wb', 1)\n",
    "print('Exposure was set to %i us' %cam.get_exposure())\n",
    " \n",
    "#create instance of Image to store image data and metadata\n",
    "img = xiapi.Image()\n",
    " \n",
    "#start data acquisition\n",
    "print('Starting data acquisition...')\n",
    "cam.start_acquisition()\n",
    " \n",
    "i = 0\n",
    "\n",
    " \n",
    "while cv2.waitKey(1) != ord('q'):\n",
    "    cam.get_image(img)\n",
    "    image = img.get_image_data_numpy()\n",
    "    image = cv2.resize(image,(1024,1024))\n",
    "\n",
    "    circles = find_circles(image)\n",
    "\n",
    "\n",
    "    if circles is not None:\n",
    "        for (x, y, r) in circles:\n",
    "            cv2.circle(image, (x, y), r, (0, 255, 0), 4)\n",
    "            cv2.rectangle(image, (x - 5, y - 5), (x + 5, y + 5), (0, 128, 255), -1)\n",
    "\n",
    "    \n",
    "\n",
    "    if cv2.waitKey(1) == ord('s'):\n",
    "        cv2.imwrite(f\"saved_imgs/img{i}.jpg\", image)\n",
    "        i += 1\n",
    "\n",
    "    cv2.imshow(\"camera\", image)\n",
    "\n",
    " \n",
    " \n",
    "#stop data acquisition\n",
    "print('Stopping acquisition...')\n",
    "cam.stop_acquisition()\n",
    " \n",
    "#stop communication\n",
    "cam.close_device()\n",
    "cv2.destroyAllWindows()\n",
    "print('Done.')"
   ]
  }
 ],
 "metadata": {
  "kernelspec": {
   "display_name": "Ximea_FEI",
   "language": "python",
   "name": "python3"
  },
  "language_info": {
   "codemirror_mode": {
    "name": "ipython",
    "version": 3
   },
   "file_extension": ".py",
   "mimetype": "text/x-python",
   "name": "python",
   "nbconvert_exporter": "python",
   "pygments_lexer": "ipython3",
   "version": "3.12.3"
  }
 },
 "nbformat": 4,
 "nbformat_minor": 2
}
