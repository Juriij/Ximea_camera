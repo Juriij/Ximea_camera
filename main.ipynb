{
 "cells": [
  {
   "cell_type": "code",
   "execution_count": 6,
   "metadata": {},
   "outputs": [],
   "source": [
    "from ximea import xiapi\n",
    "import cv2\n",
    "### runn this command first echo 0|sudo tee /sys/module/usbcore/parameters/usbfs_memory_mb  ###\n",
    " \n",
    "#create instance for first connected camera\n",
    "cam = xiapi.Camera()\n",
    " \n"
   ]
  },
  {
   "cell_type": "code",
   "execution_count": 7,
   "metadata": {},
   "outputs": [
    {
     "name": "stdout",
     "output_type": "stream",
     "text": [
      "Opening first camera...\n"
     ]
    },
    {
     "ename": "Xi_error",
     "evalue": "ERROR 56: No Devices Found",
     "output_type": "error",
     "traceback": [
      "\u001b[1;31m---------------------------------------------------------------------------\u001b[0m",
      "\u001b[1;31mXi_error\u001b[0m                                  Traceback (most recent call last)",
      "Cell \u001b[1;32mIn[7], line 6\u001b[0m\n\u001b[0;32m      1\u001b[0m \u001b[38;5;66;03m#start communication\u001b[39;00m\n\u001b[0;32m      2\u001b[0m \u001b[38;5;66;03m#to open specific device, use:\u001b[39;00m\n\u001b[0;32m      3\u001b[0m \u001b[38;5;66;03m#cam.open_device_by_SN('41305651')\u001b[39;00m\n\u001b[0;32m      4\u001b[0m \u001b[38;5;66;03m#(open by serial number)\u001b[39;00m\n\u001b[0;32m      5\u001b[0m \u001b[38;5;28mprint\u001b[39m(\u001b[38;5;124m'\u001b[39m\u001b[38;5;124mOpening first camera...\u001b[39m\u001b[38;5;124m'\u001b[39m)\n\u001b[1;32m----> 6\u001b[0m \u001b[43mcam\u001b[49m\u001b[38;5;241;43m.\u001b[39;49m\u001b[43mopen_device\u001b[49m\u001b[43m(\u001b[49m\u001b[43m)\u001b[49m\n\u001b[0;32m      8\u001b[0m \u001b[38;5;66;03m#settings\u001b[39;00m\n\u001b[0;32m      9\u001b[0m cam\u001b[38;5;241m.\u001b[39mset_exposure(\u001b[38;5;241m10000\u001b[39m)\n",
      "File \u001b[1;32mc:\\Users\\jurok\\anaconda3\\envs\\Ximea_FEI\\Lib\\site-packages\\ximea\\xiapi.py:280\u001b[0m, in \u001b[0;36mCamera.open_device\u001b[1;34m(self)\u001b[0m\n\u001b[0;32m    278\u001b[0m     stat \u001b[38;5;241m=\u001b[39m \u001b[38;5;28mself\u001b[39m\u001b[38;5;241m.\u001b[39mdevice\u001b[38;5;241m.\u001b[39mxiOpenDevice(\u001b[38;5;28mself\u001b[39m\u001b[38;5;241m.\u001b[39mdev_id, byref(\u001b[38;5;28mself\u001b[39m\u001b[38;5;241m.\u001b[39mhandle))\n\u001b[0;32m    279\u001b[0m     \u001b[38;5;28;01mif\u001b[39;00m \u001b[38;5;129;01mnot\u001b[39;00m stat \u001b[38;5;241m==\u001b[39m \u001b[38;5;241m0\u001b[39m:\n\u001b[1;32m--> 280\u001b[0m         \u001b[38;5;28;01mraise\u001b[39;00m Xi_error(stat)\n\u001b[0;32m    282\u001b[0m     \u001b[38;5;28mself\u001b[39m\u001b[38;5;241m.\u001b[39mCAM_OPEN \u001b[38;5;241m=\u001b[39m \u001b[38;5;28;01mTrue\u001b[39;00m\n\u001b[0;32m    283\u001b[0m \u001b[38;5;28;01melse\u001b[39;00m:\n",
      "\u001b[1;31mXi_error\u001b[0m: ERROR 56: No Devices Found"
     ]
    }
   ],
   "source": [
    "#start communication\n",
    "#to open specific device, use:\n",
    "#cam.open_device_by_SN('41305651')\n",
    "#(open by serial number)\n",
    "print('Opening first camera...')\n",
    "cam.open_device()\n",
    " \n",
    "#settings\n",
    "cam.set_exposure(10000)\n",
    "cam.set_param('imgdataformat','XI_RGB32')\n",
    "cam.set_param('auto_wb', 1)\n",
    "print('Exposure was set to %i us' %cam.get_exposure())\n",
    " \n",
    "#create instance of Image to store image data and metadata\n",
    "img = xiapi.Image()\n",
    " \n",
    "#start data acquisition\n",
    "print('Starting data acquisition...')\n",
    "cam.start_acquisition()\n",
    " \n",
    " \n",
    "while cv2.waitKey(1) != ord('q'):\n",
    "    cam.get_image(img)\n",
    "    image = img.get_image_data_numpy()\n",
    "    image = cv2.resize(image,(1024,1024))\n",
    "    cv2.imshow(\"test2\", image)\n",
    "\n",
    " \n",
    " \n",
    " \n",
    " \n",
    "#stop data acquisition\n",
    "print('Stopping acquisition...')\n",
    "cam.stop_acquisition()\n",
    " \n",
    "#stop communication\n",
    "cam.close_device()\n",
    "cv2.destroyAllWindows()\n",
    "print('Done.')"
   ]
  }
 ],
 "metadata": {
  "kernelspec": {
   "display_name": "Ximea_FEI",
   "language": "python",
   "name": "python3"
  },
  "language_info": {
   "codemirror_mode": {
    "name": "ipython",
    "version": 3
   },
   "file_extension": ".py",
   "mimetype": "text/x-python",
   "name": "python",
   "nbconvert_exporter": "python",
   "pygments_lexer": "ipython3",
   "version": "3.12.3"
  }
 },
 "nbformat": 4,
 "nbformat_minor": 2
}
