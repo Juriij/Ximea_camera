{
 "cells": [
  {
   "cell_type": "code",
   "execution_count": 2,
   "metadata": {},
   "outputs": [],
   "source": [
    "from ximea import xiapi\n",
    "import cv2\n",
    "import time\n",
    "import os\n",
    "from PIL import Image\n",
    "import numpy as np\n",
    "### runn this command first echo 0|sudo tee /sys/module/usbcore/parameters/usbfs_memory_mb  ###\n",
    " \n",
    "#create instance for first connected camera\n",
    "cam = xiapi.Camera()"
   ]
  },
  {
   "cell_type": "code",
   "execution_count": null,
   "metadata": {},
   "outputs": [],
   "source": [
    "#start communication\n",
    "#to open specific device, use:\n",
    "#cam.open_device_by_SN('41305651')\n",
    "#(open by serial number)\n",
    "print('Opening first camera...')\n",
    "cam.open_device()\n",
    " \n",
    "#settings\n",
    "cam.set_exposure(10000)\n",
    "cam.set_param('imgdataformat','XI_RGB32')\n",
    "cam.set_param('auto_wb', 1)\n",
    "print('Exposure was set to %i us' %cam.get_exposure())\n",
    " \n",
    "#create instance of Image to store image data and metadata\n",
    "img = xiapi.Image()\n",
    " \n",
    "#start data acquisition\n",
    "print('Starting data acquisition...')\n",
    "cam.start_acquisition()\n",
    " \n",
    "i = 0\n",
    " \n",
    "while cv2.waitKey(1) != ord('q'):\n",
    "    cam.get_image(img)\n",
    "    image = img.get_image_data_numpy()\n",
    "    image = cv2.resize(image,(1024,1024))\n",
    "\n",
    "    if cv2.waitKey(1) == ord('s'):\n",
    "        cv2.imwrite(f\"saved_imgs/img{i}.jpg\", image)\n",
    "        i += 1\n",
    "\n",
    "    cv2.imshow(\"test2\", image)\n",
    "\n",
    " \n",
    " \n",
    " \n",
    " \n",
    "#stop data acquisition\n",
    "print('Stopping acquisition...')\n",
    "cam.stop_acquisition()\n",
    " \n",
    "#stop communication\n",
    "cam.close_device()\n",
    "cv2.destroyAllWindows()\n",
    "print('Done.')"
   ]
  },
  {
   "cell_type": "code",
   "execution_count": 29,
   "metadata": {},
   "outputs": [],
   "source": [
    "def mosaic_2x2(imgs):\n",
    "    for i in range(len(imgs)):\n",
    "        imgs[i] = cv2.resize(imgs[i], (360,360))\n",
    "    horizontal = np.concatenate(imgs[:2], axis=0)\n",
    "    horizontal_2 = np.concatenate(imgs[2:], axis=0)\n",
    "\n",
    "    mosaic = np.concatenate((horizontal, horizontal_2), axis=1)\n",
    "\n",
    "    return mosaic"
   ]
  },
  {
   "cell_type": "code",
   "execution_count": 30,
   "metadata": {},
   "outputs": [],
   "source": [
    "import cv2\n",
    "import os\n",
    "from PIL import Image\n",
    "import numpy as np\n",
    "\n",
    "imgs = []\n",
    "\n",
    "# Define the directory containing the images\n",
    "image_directory = 'saved_imgs'\n",
    "\n",
    "# List all files in the directory\n",
    "files = os.listdir(image_directory)\n",
    "\n",
    "# Load images\n",
    "images = []\n",
    "for image_file in files:\n",
    "    image_path = os.path.join(image_directory, image_file)\n",
    "    image = cv2.imread(image_path)\n",
    "    images.append(image)\n",
    "\n",
    "# mosaic = mosaic_2x2(images)\n",
    "\n",
    "# cv2.imshow(\"top 4 people living on the Earth\", mosaic)\n",
    "# cv2.waitKey(0)"
   ]
  },
  {
   "cell_type": "code",
   "execution_count": 33,
   "metadata": {},
   "outputs": [
    {
     "data": {
      "text/plain": [
       "113"
      ]
     },
     "execution_count": 33,
     "metadata": {},
     "output_type": "execute_result"
    }
   ],
   "source": [
    "# manually applying kernel to the top-left image\n",
    "\n",
    "mosaic = mosaic_2x2(images)\n",
    "img = mosaic[:mosaic.shape[0]//2, :mosaic.shape[1]//2]\n",
    "\n",
    "shape = (img.shape[0], img.shape[1], img.shape[2])\n",
    "new_img = np.empty(shape, dtype=np.int32)\n",
    "\n",
    "kernel =  np.array([[0, -1, 0],       \n",
    "                    [-1, 5, -1],       \n",
    "                    [0, -1, 0]],  dtype=np.int32)\n",
    "\n",
    "\n",
    "iterate = img.shape[1]//kernel.shape[1]\n",
    "\n",
    "for i in range(iterate):\n",
    "    for j in range(iterate):\n",
    "        slice = img[i*3 : (i*3)+3, j*3 : (j*3)+3]\n",
    "        for z in range(3):\n",
    "            new_img[i*3 : (i*3)+3, j*3 : (j*3)+3][z] = slice[z] * kernel[z]\n",
    "\n",
    "\n",
    "mosaic[:mosaic.shape[0]//2, :mosaic.shape[1]//2] = new_img\n",
    "\n",
    "\n",
    "cv2.imshow(\"top 4 people living on the Earth\", mosaic)\n",
    "cv2.waitKey(0)"
   ]
  },
  {
   "cell_type": "code",
   "execution_count": 35,
   "metadata": {},
   "outputs": [
    {
     "data": {
      "text/plain": [
       "113"
      ]
     },
     "execution_count": 35,
     "metadata": {},
     "output_type": "execute_result"
    }
   ],
   "source": [
    "# Automatic kernel application\n",
    "\n",
    "mosaic = mosaic_2x2(images)\n",
    "img = mosaic[:mosaic.shape[0]//2, :mosaic.shape[1]//2]\n",
    "\n",
    "kernel =  np.array([[0, -1, 0],       \n",
    "                    [-1, 5, -1],       \n",
    "                    [0, -1, 0]],  dtype=np.int32)\n",
    "\n",
    "new_img = cv2.filter2D(src=img, ddepth=-1, kernel=kernel)\n",
    "\n",
    "mosaic[:mosaic.shape[0]//2, :mosaic.shape[1]//2] = new_img\n",
    "\n",
    "cv2.imshow(\"top 4 people living on the Earth\", mosaic)\n",
    "cv2.waitKey(0)"
   ]
  }
 ],
 "metadata": {
  "kernelspec": {
   "display_name": "Ximea_FEI",
   "language": "python",
   "name": "python3"
  },
  "language_info": {
   "codemirror_mode": {
    "name": "ipython",
    "version": 3
   },
   "file_extension": ".py",
   "mimetype": "text/x-python",
   "name": "python",
   "nbconvert_exporter": "python",
   "pygments_lexer": "ipython3",
   "version": "3.12.3"
  }
 },
 "nbformat": 4,
 "nbformat_minor": 2
}
