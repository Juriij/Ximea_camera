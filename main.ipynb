{
 "cells": [
  {
   "cell_type": "code",
   "execution_count": 3,
   "metadata": {},
   "outputs": [],
   "source": [
    "from ximea import xiapi\n",
    "import cv2\n",
    "import time\n",
    "### runn this command first echo 0|sudo tee /sys/module/usbcore/parameters/usbfs_memory_mb  ###\n",
    " \n",
    "#create instance for first connected camera\n",
    "cam = xiapi.Camera()\n",
    " \n"
   ]
  },
  {
   "cell_type": "code",
   "execution_count": null,
   "metadata": {},
   "outputs": [],
   "source": [
    "#start communication\n",
    "#to open specific device, use:\n",
    "#cam.open_device_by_SN('41305651')\n",
    "#(open by serial number)\n",
    "print('Opening first camera...')\n",
    "cam.open_device()\n",
    " \n",
    "#settings\n",
    "cam.set_exposure(10000)\n",
    "cam.set_param('imgdataformat','XI_RGB32')\n",
    "cam.set_param('auto_wb', 1)\n",
    "print('Exposure was set to %i us' %cam.get_exposure())\n",
    " \n",
    "#create instance of Image to store image data and metadata\n",
    "img = xiapi.Image()\n",
    " \n",
    "#start data acquisition\n",
    "print('Starting data acquisition...')\n",
    "cam.start_acquisition()\n",
    " \n",
    " \n",
    "while cv2.waitKey(1) != ord('q'):\n",
    "    cam.get_image(img)\n",
    "    image = img.get_image_data_numpy()\n",
    "    image = cv2.resize(image,(1024,1024))\n",
    "\n",
    "    if cv2.waitKey(1) == ord('s'):\n",
    "        cv2.imwrite(f\"saved_imgs/img{round(time.time(), 2)}.jpg\", image)\n",
    "\n",
    "    cv2.imshow(\"test2\", image)\n",
    "\n",
    " \n",
    " \n",
    " \n",
    " \n",
    "#stop data acquisition\n",
    "print('Stopping acquisition...')\n",
    "cam.stop_acquisition()\n",
    " \n",
    "#stop communication\n",
    "cam.close_device()\n",
    "cv2.destroyAllWindows()\n",
    "print('Done.')"
   ]
  }
 ],
 "metadata": {
  "kernelspec": {
   "display_name": "Ximea_FEI",
   "language": "python",
   "name": "python3"
  },
  "language_info": {
   "codemirror_mode": {
    "name": "ipython",
    "version": 3
   },
   "file_extension": ".py",
   "mimetype": "text/x-python",
   "name": "python",
   "nbconvert_exporter": "python",
   "pygments_lexer": "ipython3",
   "version": "3.12.3"
  }
 },
 "nbformat": 4,
 "nbformat_minor": 2
}
